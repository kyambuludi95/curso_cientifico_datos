{
 "cells": [
  {
   "cell_type": "markdown",
   "id": "91fd955a-2a66-45ce-b452-4c70801c776e",
   "metadata": {},
   "source": [
    "# Data Science Tools and Ecosystem"
   ]
  },
  {
   "cell_type": "code",
   "execution_count": null,
   "id": "406e6d79-4c4a-49a6-ac21-27dbed4941a5",
   "metadata": {},
   "outputs": [],
   "source": [
    "In this notebook, Data Science Tools and Ecosystem are summarized."
   ]
  },
  {
   "cell_type": "markdown",
   "id": "91daf3c2-720a-4cbc-be9f-2408fa801512",
   "metadata": {},
   "source": [
    "Objectives:\n",
    "**unordered list**\n",
    "* Describirá los componentes del conjunto de herramientas de un científico de datos y enumerará las distintas categorías de herramientas\n",
    "* Identificar los criterios y funciones para determinar el lenguaje a aprender.\n",
    "* Enumerar ejemplos de las distintas bibliotecas: científicas, de visualización, de aprendizaje automático y de aprendizaje profundo.\n",
    "* Describir cómo utilizar los cuadernos en JupyterLab.\n",
    "* Describir las capacidades de R y el entorno RStudio.\n",
    "* Crear un cuaderno Jupyter con markdown y celdas de código"
   ]
  },
  {
   "cell_type": "markdown",
   "id": "1f1d867a-8efe-4327-bdce-51dffcfc7b8e",
   "metadata": {},
   "source": [
    "Some of the popular languages that Data Scientists use are:\n",
    "1. Python\n",
    "2. R\n",
    "3. Julia"
   ]
  },
  {
   "cell_type": "markdown",
   "id": "4d73b885-ac78-41d0-bbed-8e6d950bf72a",
   "metadata": {},
   "source": [
    "|Data Science Tools|\n",
    "|--------------------|\n",
    "|Gestión de bases    |\n",
    "|Sistema Operativo   |\n",
    "|Visualización de datos|"
   ]
  },
  {
   "cell_type": "markdown",
   "id": "c4ad8957-af09-49b1-9343-a54636f40e95",
   "metadata": {},
   "source": [
    "### Below are a few examples of evaluating arithmetic expressions in Python"
   ]
  },
  {
   "cell_type": "code",
   "execution_count": 8,
   "id": "7d2d7b76-dff4-4c76-8593-3d406aa5aea8",
   "metadata": {},
   "outputs": [
    {
     "data": {
      "text/plain": [
       "17"
      ]
     },
     "execution_count": 8,
     "metadata": {},
     "output_type": "execute_result"
    }
   ],
   "source": [
    "(3*4)+5\n",
    "# This a simple arithmetic expression to mutiply then add integers"
   ]
  },
  {
   "cell_type": "code",
   "execution_count": 9,
   "id": "a61d7404-eb91-4809-a414-92326d0d1a4a",
   "metadata": {},
   "outputs": [
    {
     "data": {
      "text/plain": [
       "3.3333333333333335"
      ]
     },
     "execution_count": 9,
     "metadata": {},
     "output_type": "execute_result"
    }
   ],
   "source": [
    "200/60 # This will convert 200 minutes to hours by diving by 60"
   ]
  },
  {
   "cell_type": "markdown",
   "id": "e96fd3aa-5ff2-4dfa-aa94-1b0318cf7f33",
   "metadata": {},
   "source": [
    "## Author\n",
    "Kevin Ambuludi"
   ]
  },
  {
   "cell_type": "code",
   "execution_count": null,
   "id": "2d7ef7f8-c10d-47af-bff3-85d08273e9dd",
   "metadata": {},
   "outputs": [],
   "source": []
  }
 ],
 "metadata": {
  "kernelspec": {
   "display_name": "Python 3 (ipykernel)",
   "language": "python",
   "name": "python3"
  },
  "language_info": {
   "codemirror_mode": {
    "name": "ipython",
    "version": 3
   },
   "file_extension": ".py",
   "mimetype": "text/x-python",
   "name": "python",
   "nbconvert_exporter": "python",
   "pygments_lexer": "ipython3",
   "version": "3.12.7"
  }
 },
 "nbformat": 4,
 "nbformat_minor": 5
}
